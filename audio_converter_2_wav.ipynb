{
  "nbformat": 4,
  "nbformat_minor": 0,
  "metadata": {
    "colab": {
      "provenance": [],
      "mount_file_id": "1VvA3LRTZLAElXisMM2l5jdT6d6adAZP7",
      "authorship_tag": "ABX9TyOlFa/J11rfk+KmWb6dNO9c",
      "include_colab_link": true
    },
    "kernelspec": {
      "name": "python3",
      "display_name": "Python 3"
    },
    "language_info": {
      "name": "python"
    }
  },
  "cells": [
    {
      "cell_type": "markdown",
      "metadata": {
        "id": "view-in-github",
        "colab_type": "text"
      },
      "source": [
        "<a href=\"https://colab.research.google.com/github/Ertthecoder/AudioFileConverter/blob/main/audio_converter_2_wav.ipynb\" target=\"_parent\"><img src=\"https://colab.research.google.com/assets/colab-badge.svg\" alt=\"Open In Colab\"/></a>"
      ]
    },
    {
      "cell_type": "markdown",
      "source": [
        "# AUDIO CONVERTER TO WAV"
      ],
      "metadata": {
        "id": "vFhRSCPLd0ze"
      }
    },
    {
      "cell_type": "code",
      "source": [
        "#REQUIREMENTS\n",
        "!pip install pydub\n",
        "from pydub import AudioSegment"
      ],
      "metadata": {
        "colab": {
          "base_uri": "https://localhost:8080/"
        },
        "id": "VSblOhWReCQu",
        "outputId": "a621fa3e-80ca-4849-aa12-616bda6646ce"
      },
      "execution_count": null,
      "outputs": [
        {
          "output_type": "stream",
          "name": "stdout",
          "text": [
            "Looking in indexes: https://pypi.org/simple, https://us-python.pkg.dev/colab-wheels/public/simple/\n",
            "Collecting pydub\n",
            "  Downloading pydub-0.25.1-py2.py3-none-any.whl (32 kB)\n",
            "Installing collected packages: pydub\n",
            "Successfully installed pydub-0.25.1\n"
          ]
        }
      ]
    },
    {
      "cell_type": "code",
      "source": [
        "def audio_converter_2_wav(input_dir):\n",
        "  \n",
        "  while(True):\n",
        "\n",
        "    sound = AudioSegment.from_file(input_dir)\n",
        "    \n",
        "    end_of_dir = input_dir.split(\"/\")[-1]\n",
        "    file_name = end_of_dir.split(\".\")[0]\n",
        "    dir_before_the_name = input_dir.split(\"/\")\n",
        "    file_path = '/'.join(dir_before_the_name[0:-1])\n",
        "  \n",
        "    output_dir = file_path + \"/\" + file_name + \".wav\"\n",
        "\n",
        "    sound.export(output_dir, format=\"wav\")\n",
        "    \n",
        "    if output_dir == input_dir :\n",
        "      print(\"Bu dosyayla aynı isimde bir 'wav' dosyası zaten mevcut.\")\n",
        "      del output_dir\n",
        "      input_dir = input(\"Lütfen yüklemek istediğiniz dosyanın tam yolunu giriniz: \")\n",
        "      continue\n",
        "    \n",
        "    else:\n",
        "      print(\"\\n\" + '\"' + file_name + '\"' + \" isimli dosyanız başarıyla 'wav' formatına dönüştürülmüştür.\")\n",
        "      break\n",
        "\n",
        "    \n"
      ],
      "metadata": {
        "id": "mz3f8dTUet5A"
      },
      "execution_count": null,
      "outputs": []
    },
    {
      "cell_type": "code",
      "source": [
        "file_input = input(\"Lütfen yüklemek istediğiniz dosyanın tam yolunu giriniz: \")\n",
        "\n",
        "audio_converter_2_wav(file_input)\n",
        "\n",
        "  \n",
        "  \n",
        "\n",
        "\n",
        " \n"
      ],
      "metadata": {
        "colab": {
          "base_uri": "https://localhost:8080/"
        },
        "id": "DKo7DeCZ8nZ6",
        "outputId": "8f3ab6b7-17aa-465c-d199-556db6bea48f"
      },
      "execution_count": null,
      "outputs": [
        {
          "output_type": "stream",
          "name": "stdout",
          "text": [
            "Lütfen yüklemek istediğiniz dosyanın tam yolunu giriniz: /content/drive/MyDrive/Colab Notebooks/Staj_Kybertech/audio_samples/denoiser_sample.mpeg\n",
            "\n",
            "\"denoiser_sample\" isimli dosyanız başarıyla 'wav' formatına dönüştürülmüştür.\n"
          ]
        }
      ]
    }
  ]
}